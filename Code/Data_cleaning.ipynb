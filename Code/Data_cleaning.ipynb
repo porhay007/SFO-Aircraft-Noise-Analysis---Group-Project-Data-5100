{
 "cells": [
  {
   "cell_type": "code",
   "execution_count": 1,
   "metadata": {},
   "outputs": [
    {
     "name": "stderr",
     "output_type": "stream",
     "text": [
      "/Library/Frameworks/Python.framework/Versions/3.13/lib/python3.13/site-packages/tqdm/auto.py:21: TqdmWarning: IProgress not found. Please update jupyter and ipywidgets. See https://ipywidgets.readthedocs.io/en/stable/user_install.html\n",
      "  from .autonotebook import tqdm as notebook_tqdm\n"
     ]
    }
   ],
   "source": [
    "import pandas as pd\n",
    "import matplotlib as plt\n",
    "import numpy as np\n",
    "import kagglehub"
   ]
  },
  {
   "cell_type": "code",
   "execution_count": null,
   "id": "3002f772",
   "metadata": {},
   "outputs": [
    {
     "name": "stdout",
     "output_type": "stream",
     "text": [
      "Path to dataset files: /Users/macbookpro/.cache/kagglehub/datasets/porhayrouen/aircraft-noise-report-sfo/versions/1\n"
     ]
    },
    {
     "name": "stderr",
     "output_type": "stream",
     "text": [
      "/var/folders/wx/0m6_v4n9285892l822ksy8740000gn/T/ipykernel_583/567855864.py:9: DtypeWarning: Columns (2) have mixed types. Specify dtype option on import or set low_memory=False.\n",
      "  df = pd.read_csv(f\"{path}/Cleaned_Aircraft_Noise_Data.csv\")\n"
     ]
    }
   ],
   "source": [
    "\n",
    "# Download latest version of your dataset\n",
    "path = kagglehub.dataset_download(\"porhayrouen/aircraft-noise-report-sfo\")\n",
    "\n",
    "print(\"Path to dataset files:\", path)\n",
    "\n",
    "df = pd.read_csv(f\"{path}/Cleaned_Aircraft_Noise_Data.csv\")\n",
    "df.shape\n",
    "df.head()\n",
    "\n",
    "\n",
    "df = df.dropna()"
   ]
  },
  {
   "cell_type": "code",
   "execution_count": 3,
   "id": "59327711",
   "metadata": {},
   "outputs": [
    {
     "data": {
      "text/plain": [
       "2336774"
      ]
     },
     "execution_count": 3,
     "metadata": {},
     "output_type": "execute_result"
    }
   ],
   "source": [
    "len(df)"
   ]
  }
 ],
 "metadata": {
  "kernelspec": {
   "display_name": "Python 3",
   "language": "python",
   "name": "python3"
  },
  "language_info": {
   "codemirror_mode": {
    "name": "ipython",
    "version": 3
   },
   "file_extension": ".py",
   "mimetype": "text/x-python",
   "name": "python",
   "nbconvert_exporter": "python",
   "pygments_lexer": "ipython3",
   "version": "3.13.3"
  }
 },
 "nbformat": 4,
 "nbformat_minor": 5
}
